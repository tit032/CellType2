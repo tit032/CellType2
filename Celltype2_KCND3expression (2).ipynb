{
 "cells": [
  {
   "cell_type": "markdown",
   "metadata": {},
   "source": [
    "## Getting the expression of voltage-gated potassium channel, Kv4.3, in human hippocampus across different age groups\n",
    "\n",
    "In this section, we will interact with the Developing Human Transcriptome (https://www.brainspan.org/rnaseq/search/index.html)  to obtain potassium channel expression in hippocampus across subjects of different ages. The gene coding Kv4.3 is KCND3 (Carasquillo et al. 2012)"
   ]
  },
  {
   "cell_type": "markdown",
   "metadata": {},
   "source": [
    "Firstly, we need to find the gene id for the gene KCND3. "
   ]
  },
  {
   "cell_type": "code",
   "execution_count": 3,
   "metadata": {},
   "outputs": [
    {
     "name": "stdout",
     "output_type": "stream",
     "text": [
      "The gene ID for KCND3 in the database is:  3727\n"
     ]
    }
   ],
   "source": [
    "import requests\n",
    "import json\n",
    "import pandas as pd\n",
    "import numpy as np\n",
    "\n",
    "service = \"http://api.brain-map.org/api/v2/data/query.json?criteria=\"\n",
    "\n",
    "# getting gene ID using the RMA query function\n",
    "\n",
    "gene_acronym = 'KCND3'\n",
    "probe_type = 'NcbiGene'\n",
    "\n",
    "result = requests.get(\"%smodel::Gene,\\\n",
    "rma::criteria,[acronym$eq'%s\\'][type$eq'%s\\'],organism[name$eq'Homo Sapiens'],\\\n",
    "rma::options[only$eq'genes.id']\" % (service, gene_acronym, probe_type)).json()\n",
    "gene_id = result['msg'][1]['id']\n",
    "probe_id = result['msg'][0]['id']\n",
    "print ('The gene ID for KCND3 in the database is: ', gene_id)"
   ]
  },
  {
   "cell_type": "markdown",
   "metadata": {},
   "source": [
    "Next, I want to know about the donors who provided the hippocampal KCND3 expression data. What are their donor ids? How old were they?"
   ]
  },
  {
   "cell_type": "code",
   "execution_count": 31,
   "metadata": {},
   "outputs": [
    {
     "name": "stdout",
     "output_type": "stream",
     "text": [
      "These are the IDs of all donors: [12296, 12890, 12830, 12979, 12980, 12841, 12981, 12289, 12831, 12984, 12832, 13057, 12300, 12290, 12302, 12303, 12304]\n",
      "\n",
      "\n",
      "The following are their ages:  ['4 mos', '4 mos', '1 yrs', '2 yrs', '3 yrs', '8 yrs', '8 yrs', '11 yrs', '13 yrs', '18 yrs', '19 yrs', '21 yrs', '23 yrs', '30 yrs', '36 yrs', '37 yrs', '40 yrs']\n"
     ]
    }
   ],
   "source": [
    "#Fetching data for all donors with KCND expression data at hippocampus\n",
    "donor_info = requests.get(\"http://api.brain-map.org/api/v2/data/query.json?criteria=service::dev_human_expression\\\n",
    "[set$eq'exon_microarray_genes'][probes$eq3727][structures$eq10294]\").json()\n",
    "\n",
    "#getting a list of donors, with their age donor id.\n",
    "donor_info_samples = donor_info['msg']\n",
    "donor_list = donor_info_samples['samples']\n",
    "younger_adults_id = []\n",
    "younger_adults_age = []\n",
    "older_adults_id = []\n",
    "older_adults_age = []\n",
    "category = []\n",
    "#print (donor_list)\n",
    "\n",
    "\n",
    "## examine the age of each donor, and categorize them into 'young' or 'old' \n",
    "for indiv_donor in donor_list:      \n",
    "    indiv_info = indiv_donor['donor']\n",
    "    indiv_age = indiv_info['age']\n",
    "    age_num = indiv_age.split(' ')[0]\n",
    "    if not 'pcw' in indiv_age:\n",
    "        if ('yrs' in indiv_age) and (int(age_num) > 20):\n",
    "            older_adults_id.append(indiv_info['id'])\n",
    "            older_adults_age.append(indiv_age)\n",
    "            category.append('older')\n",
    "        else:\n",
    "            younger_adults_id.append(indiv_info['id'])\n",
    "            younger_adults_age.append(indiv_age)\n",
    "            category.append('younger')\n",
    "all_donors = younger_adults_id + older_adults_id\n",
    "all_age = younger_adults_age + older_adults_age\n",
    "print ('These are the IDs of all donors:', all_donors)\n",
    "print ('\\n')\n",
    "print ('The following are their ages: ', all_age)"
   ]
  },
  {
   "cell_type": "markdown",
   "metadata": {},
   "source": [
    "Now, I will get the actual expression values from each donor. Gene expression is measured by exon microarray probes. "
   ]
  },
  {
   "cell_type": "code",
   "execution_count": 32,
   "metadata": {},
   "outputs": [
    {
     "name": "stdout",
     "output_type": "stream",
     "text": [
      "    Donor_id Donor_age Category KCND3_expression\n",
      "0      12296     4 mos  younger           8.7525\n",
      "1      12890     4 mos  younger             None\n",
      "2      12830     1 yrs  younger           8.8687\n",
      "3      12979     2 yrs  younger           7.2277\n",
      "4      12980     3 yrs  younger           7.1818\n",
      "5      12841     8 yrs  younger           8.5025\n",
      "6      12981     8 yrs  younger             None\n",
      "7      12289    11 yrs  younger             None\n",
      "8      12831    13 yrs  younger           8.4413\n",
      "9      12984    18 yrs  younger           7.1473\n",
      "10     12832    19 yrs  younger             None\n",
      "11     13057    21 yrs    older           8.8564\n",
      "12     12300    23 yrs    older           8.0415\n",
      "13     12290    30 yrs    older           8.8200\n",
      "14     12302    36 yrs    older           9.2727\n",
      "15     12303    37 yrs    older           9.0706\n",
      "16     12304    40 yrs    older           7.5593\n"
     ]
    }
   ],
   "source": [
    "##Getting KCND3 expression from each donor\n",
    "all_kvexp_hippo = []\n",
    "for each_donor in all_donors:\n",
    "    all_kvexp = requests.get(\"http://api.brain-map.org/api/v2/data/query.json?criteria=service::dev_human_expression\\\n",
    "[set$eq'exon_microarray_genes'][probes$eq3727][structures$eq10294][donors$eq'%s\\']\" % (each_donor)).json()\n",
    "##cleaning data\n",
    "    all_kvexp_msg = all_kvexp['msg']\n",
    "    gene_related_info = pd.DataFrame(all_kvexp_msg['probes'])\n",
    "    expression_lvl = gene_related_info['expression_level'].tolist()\n",
    "    kv_expression = expression_lvl[0][0]\n",
    "##getting expression value and combining with the donor ID and age together\n",
    "    if type (kv_expression) == 'str':\n",
    "        kv_expression = float (kv_expression)\n",
    "    all_kvexp_hippo.append (kv_expression)\n",
    "result_dict = {'Donor_id': all_donors, 'Donor_age': all_age, 'Category': category, 'KCND3_expression': all_kvexp_hippo}\n",
    "result_df = pd.DataFrame (result_dict)\n",
    "print (result_df)\n"
   ]
  },
  {
   "cell_type": "markdown",
   "metadata": {},
   "source": [
    "To plot the expression against age groups, I need to clean the data (remove those who do not have expression values) and further categorize subjects by age. "
   ]
  },
  {
   "cell_type": "code",
   "execution_count": 51,
   "metadata": {
    "scrolled": true
   },
   "outputs": [
    {
     "data": {
      "text/plain": [
       "Text(0.5, 1.0, 'Figure 3. Distribution of KCND3 \\n expression of young subjects')"
      ]
     },
     "execution_count": 51,
     "metadata": {},
     "output_type": "execute_result"
    },
    {
     "data": {
      "image/png": "[encoded data removed]",
      "text/plain": [
       "<Figure size 720x360 with 2 Axes>"
      ]
     },
     "metadata": {
      "needs_background": "light"
     },
     "output_type": "display_data"
    }
   ],
   "source": [
    "import matplotlib as mpl\n",
    "import matplotlib.pyplot as plt\n",
    "%matplotlib inline\n",
    "\n",
    "fig,ax = plt.subplots(1,2,figsize = (10,5))\n",
    "\n",
    "# Dropping subjects without KCND3 expression\n",
    "result_cleaned = result_df.dropna()\n",
    "result_cleaned.set_index('Donor_id')\n",
    "\n",
    "#grouping the expression values to either 'young' or 'old' category\n",
    "young = result_cleaned[result_cleaned['Category'] == 'younger']\n",
    "old = result_cleaned[result_cleaned['Category'] == 'older']\n",
    "young_expression = young['KCND3_expression'].values.tolist()\n",
    "old_expression = old['KCND3_expression'].values.tolist()\n",
    "data = [young_expression,old_expression]\n",
    "young_expression = list(map(float, young_expression))\n",
    "old_expression = list(map(float,old_expression))\n",
    "\n",
    "data = [young_expression, old_expression]\n",
    "\n",
    "# Create a boxplot of the expression values of young(0-20yrs) and old(21-40yrs) subjects\n",
    "ax[0].boxplot(data)\n",
    "ax[0].set_xlabel('Age Range/years')\n",
    "ax[0].set_ylabel('KCND3 Expression/log2RPKM')   \n",
    "ax[0].set_xticklabels(['0-20 years old','21-40 years old'])\n",
    "ax[0].set_title('Figure 2. Comparison of KCND3 Expression \\n in Hippocampus of Young and Old Human Subjects')\n",
    "ax[1].hist(young_expression)\n",
    "ax[1].set_xlabel('KCND3 Expression/log2RPKM') \n",
    "ax[1].set_ylabel('Count')\n",
    "ax[1].set_title('Figure 3. Distribution of KCND3 \\n expression of young subjects')"
   ]
  },
  {
   "cell_type": "markdown",
   "metadata": {},
   "source": [
    "Figure 2 shows that younger subjects have a wider range of KCND3 expression in hippocampus than older subjects. Figure 3 showed that young subjects' expression values are not in a normal distribution. Younger subjects also seem to have lower hippocampal KCND3 expression compared to older subjects. In oder to figure out if such observation is statistically significant, we would like to conduct an Mann-Whitney U Test regarding the two groups' expression values. "
   ]
  },
  {
   "cell_type": "code",
   "execution_count": 52,
   "metadata": {},
   "outputs": [
    {
     "name": "stdout",
     "output_type": "stream",
     "text": [
      "The p-Value for the t-test is:  0.06680720126885807\n",
      "Since the p value is higher than 0.05, we have insufficient evidence to claim that the hippocampal KCND expression of the youngand old subjects are different.\n"
     ]
    }
   ],
   "source": [
    "# t-test across two groups of data\n",
    "from scipy import stats\n",
    "ttest_statistic, ttest_pVal = stats.mannwhitneyu(young_expression,old_expression)\n",
    "print (\"The p-Value for the t-test is: \", ttest_pVal)\n",
    "print ('Since the p value is higher than 0.05, we have insufficient evidence to claim that the hippocampal KCND expression of the young\\\n",
    "and old subjects are different.')"
   ]
  }
 ],
 "metadata": {
  "kernelspec": {
   "display_name": "Python 3",
   "language": "python",
   "name": "python3"
  },
  "language_info": {
   "codemirror_mode": {
    "name": "ipython",
    "version": 3
   },
   "file_extension": ".py",
   "mimetype": "text/x-python",
   "name": "python",
   "nbconvert_exporter": "python",
   "pygments_lexer": "ipython3",
   "version": "3.6.7"
  }
 },
 "nbformat": 4,
 "nbformat_minor": 2
}
